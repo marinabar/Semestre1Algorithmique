{
 "cells": [
  {
   "cell_type": "markdown",
   "metadata": {},
   "source": [
    "## TD10 - Tuples dictionnaires et ensembles"
   ]
  },
  {
   "cell_type": "markdown",
   "metadata": {},
   "source": [
    "ex 10.1"
   ]
  },
  {
   "cell_type": "code",
   "execution_count": 3,
   "metadata": {},
   "outputs": [
    {
     "name": "stdout",
     "output_type": "stream",
     "text": [
      "nom Depuis\n",
      "prenom Jacques\n",
      "age 20\n"
     ]
    }
   ],
   "source": [
    "d={'nom':'Depuis', 'prenom':'NO', 'age':20}\n",
    "d['prenom']='Jacques'\n",
    "for cle in d:\n",
    "    print(cle, d[cle])"
   ]
  },
  {
   "cell_type": "markdown",
   "metadata": {},
   "source": [
    "### exercice 10.2"
   ]
  },
  {
   "cell_type": "markdown",
   "metadata": {},
   "source": [
    "1/ la fonction inverse les clés et les valeurs"
   ]
  },
  {
   "cell_type": "code",
   "execution_count": 7,
   "metadata": {},
   "outputs": [
    {
     "name": "stdout",
     "output_type": "stream",
     "text": [
      "{'manger': ['nourrir', 'alimenter'], 'observer': ['étudier']}\n"
     ]
    }
   ],
   "source": [
    "def inverse(dico):\n",
    "    dico1={}\n",
    "    for k in dico:\n",
    "        if dico[k] in dico1:\n",
    "            dico1[dico[k]].append(k)\n",
    "        else:\n",
    "            dico1[dico[k]]=[k]\n",
    "\n",
    "    return dico1\n",
    "\n",
    "print(inverse({\"nourrir\":'manger', 'alimenter': \"manger\", \"étudier\":\"observer\"}))"
   ]
  },
  {
   "cell_type": "markdown",
   "metadata": {},
   "source": [
    "### Exercice 10.3"
   ]
  },
  {
   "cell_type": "markdown",
   "metadata": {},
   "source": [
    "1/ z est un tuple 2/ z=(12, 5)\n",
    "3/ oui valide 4/ non valide car tuples non mutables"
   ]
  },
  {
   "cell_type": "markdown",
   "metadata": {},
   "source": [
    "### Exercice 10.4"
   ]
  },
  {
   "cell_type": "markdown",
   "metadata": {},
   "source": [
    "t=(4, 2, 3)\n",
    "\n",
    "d={'Tom':\"0606\"} etc\n",
    "\n",
    "l=[[Tom, 0606], ...]"
   ]
  },
  {
   "cell_type": "markdown",
   "metadata": {},
   "source": [
    "### Exercice 10.6"
   ]
  },
  {
   "cell_type": "code",
   "execution_count": null,
   "metadata": {},
   "outputs": [],
   "source": []
  },
  {
   "cell_type": "code",
   "execution_count": 8,
   "metadata": {},
   "outputs": [
    {
     "name": "stdout",
     "output_type": "stream",
     "text": [
      "[1, 3]\n"
     ]
    }
   ],
   "source": []
  },
  {
   "cell_type": "code",
   "execution_count": null,
   "metadata": {},
   "outputs": [],
   "source": []
  }
 ],
 "metadata": {
  "kernelspec": {
   "display_name": "Python 3",
   "language": "python",
   "name": "python3"
  },
  "language_info": {
   "codemirror_mode": {
    "name": "ipython",
    "version": 3
   },
   "file_extension": ".py",
   "mimetype": "text/x-python",
   "name": "python",
   "nbconvert_exporter": "python",
   "pygments_lexer": "ipython3",
   "version": "3.10.1"
  }
 },
 "nbformat": 4,
 "nbformat_minor": 2
}
