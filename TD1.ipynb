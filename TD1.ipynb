{
 "cells": [
  {
   "cell_type": "markdown",
   "id": "b685246a",
   "metadata": {},
   "source": [
    "## TD 1"
   ]
  },
  {
   "cell_type": "markdown",
   "id": "444ad2a5-c680-45cc-8be2-0f6c9bef64d1",
   "metadata": {},
   "source": [
    "### Exercice 1.5"
   ]
  },
  {
   "cell_type": "code",
   "execution_count": null,
   "id": "c562958f-a5c8-48fa-b991-bda41c3243a1",
   "metadata": {},
   "outputs": [],
   "source": [
    "(y%2==0)or(y%3!=0)"
   ]
  },
  {
   "cell_type": "markdown",
   "id": "7e15914f-a51c-4f97-824e-49c41394b1b3",
   "metadata": {},
   "source": [
    "(u!=0)xor(v==u)"
   ]
  },
  {
   "cell_type": "markdown",
   "id": "da92e3e3",
   "metadata": {},
   "source": [
    "### exercice 1.6"
   ]
  },
  {
   "cell_type": "markdown",
   "id": "7d370c46",
   "metadata": {},
   "source": [
    "erreur\n",
    "\n",
    "b) a=4, b=0\n",
    "\n",
    "c) a=-2, b=1   "
   ]
  },
  {
   "cell_type": "markdown",
   "id": "868cc403",
   "metadata": {},
   "source": []
  },
  {
   "cell_type": "markdown",
   "id": "1c0caefa",
   "metadata": {},
   "source": [
    "### exercice 1.7"
   ]
  },
  {
   "cell_type": "markdown",
   "id": "ee419086",
   "metadata": {},
   "source": [
    "Start\n",
    "\n",
    "    a <- int(get(a))\n",
    "\n",
    "    b<- int(get(b))\n",
    "\n",
    "    c<- int(get(c))\n",
    "\n",
    "    d <- b^2 - 4ac\n",
    "\n",
    "    if d <0:\n",
    "        print(l'équation est : ax^2 + bx+c=0 n'admet pas de solution)\n",
    "    if d = 0:\n",
    "        s <- -b/2a\n",
    "        print(la solution est : s)\n",
    "    if d > 0:\n",
    "        s1 <- (-b + racine(d))/2a\n",
    "        s2 <- (-b - racine(d))/2a\n",
    "        print(les solutions sont s1 et s2)\n",
    "\n"
   ]
  },
  {
   "cell_type": "markdown",
   "id": "5110a69f",
   "metadata": {},
   "source": [
    "### exercice 1.9"
   ]
  },
  {
   "cell_type": "markdown",
   "id": "0acfc138",
   "metadata": {},
   "source": [
    "\n",
    "n <- int(get())\n",
    "\n",
    "if n <10:\n",
    "\n",
    "    print('ajourné')\n",
    "\n",
    "if n<12 and n>= 10:\n",
    "\n",
    "    print(\"passable\")\n"
   ]
  },
  {
   "cell_type": "markdown",
   "id": "b53d1fa5",
   "metadata": {},
   "source": [
    "### exercice 1.10"
   ]
  },
  {
   "cell_type": "markdown",
   "id": "e168dfbb",
   "metadata": {},
   "source": []
  },
  {
   "cell_type": "markdown",
   "id": "62ff1a1e",
   "metadata": {},
   "source": [
    "    algo\n",
    "\n",
    "        a : int\n",
    "\n",
    "        b:int\n",
    "\n",
    "        c:int\n",
    "    begin\n",
    "        get a\n",
    "\n",
    "        get b\n",
    "\n",
    "        w"
   ]
  }
 ],
 "metadata": {
  "kernelspec": {
   "display_name": "Python 3 (ipykernel)",
   "language": "python",
   "name": "python3"
  },
  "language_info": {
   "codemirror_mode": {
    "name": "ipython",
    "version": 3
   },
   "file_extension": ".py",
   "mimetype": "text/x-python",
   "name": "python",
   "nbconvert_exporter": "python",
   "pygments_lexer": "ipython3",
   "version": "3.10.1"
  }
 },
 "nbformat": 4,
 "nbformat_minor": 5
}
