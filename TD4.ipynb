{
 "cells": [
  {
   "cell_type": "markdown",
   "metadata": {},
   "source": [
    "## TD 4 Séquences Tableaux et instructions For"
   ]
  },
  {
   "cell_type": "markdown",
   "metadata": {},
   "source": [
    "### Exercice 4.1"
   ]
  },
  {
   "cell_type": "markdown",
   "metadata": {},
   "source": [
    "Algo\n",
    "\n",
    "    k,moy,notes_dessus,n,val,somme,max,imax:int\n",
    "\n",
    "Begin\n",
    "\n",
    "    get n\n",
    "    somme<-0\n",
    "    tab<-create_table(n)\n",
    "    for k=0 to k=n-1\n",
    "        get val\n",
    "        tab[k] <- val\n",
    "        somme <- somme+val\n",
    "    moy<-somme/n\n",
    "    max<-tab[n]\n",
    "    print(moy)\n",
    "    for k=0 to k=n-1\n",
    "        if tab[k]> moy then\n",
    "            notes_dessus<-notes_dessus+1\n",
    "            if tab[k]>max then\n",
    "                max<-tab[k]\n",
    "                imax<-k\n",
    "    print(notes_dessus)\n",
    "    print(max)\n",
    "    print(imax)\n",
    "End\n",
    "\n",
    "        \n",
    "\n",
    "\n"
   ]
  },
  {
   "cell_type": "markdown",
   "metadata": {},
   "source": [
    "## Exercice 4.2"
   ]
  },
  {
   "cell_type": "markdown",
   "metadata": {},
   "source": [
    "Algo \n",
    "    long, n:int\n",
    "Begin\n",
    "    get long\n",
    "    tab1 <-create_tab(long)\n",
    "    for i=1 to i=long\n",
    "        get n\n",
    "        tab[i]<-n\n",
    "    \n",
    "\n",
    "    \n"
   ]
  },
  {
   "cell_type": "code",
   "execution_count": null,
   "metadata": {},
   "outputs": [],
   "source": []
  },
  {
   "cell_type": "code",
   "execution_count": null,
   "metadata": {},
   "outputs": [],
   "source": []
  }
 ],
 "metadata": {
  "language_info": {
   "name": "python"
  },
  "orig_nbformat": 4
 },
 "nbformat": 4,
 "nbformat_minor": 2
}
