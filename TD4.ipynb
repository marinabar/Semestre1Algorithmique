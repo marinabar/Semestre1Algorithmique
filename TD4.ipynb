#exercice 4.3

1/
function tabAlea(n,a,b:int)
    tab:array of int
    i:int
    Begin
        tab<-create_table(n)
        for i=0 to i=n-1
            tab[i]=nombreAleatoire(a,b)
        print(tab)
    End

2/
function TabProduit(tab:array of int)
    n,p, i:int
    Begin
        n<-size(tab)
        for i=0 to i=n-1
            p*=tab[n]
        print(p)
    End

3/
Algo
    tab:array of int
    n,a,b:int
    Begin
        get n
        get a
        get b
        tab<-tabAlea(n,a,b)
        TabProduit(tab)
    End

#exercice 4.4
0 1
2 3
4 5
6 7

#exercice 4.5
Algo
    tab:array of int
    max, n, i:int
    Begin
        get tab
        n<-size(tab)
        max<-tab[0][0]
        for i=1 to n[0]-1
            for j=0 to n[1]-1
                if tab[i][j]> max then
                    max<-tab[i]