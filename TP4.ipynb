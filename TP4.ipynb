{
 "cells": [
  {
   "cell_type": "markdown",
   "metadata": {},
   "source": [
    "# Travaux Pratiques 4"
   ]
  },
  {
   "cell_type": "markdown",
   "metadata": {},
   "source": [
    "## exercice 4.7"
   ]
  },
  {
   "cell_type": "markdown",
   "metadata": {},
   "source": []
  },
  {
   "cell_type": "code",
   "execution_count": 5,
   "metadata": {},
   "outputs": [
    {
     "name": "stdout",
     "output_type": "stream",
     "text": [
      "6.123233995736766e-17\n"
     ]
    }
   ],
   "source": [
    "from math import pi, cos\n",
    "print(cos(pi/2))\n"
   ]
  },
  {
   "cell_type": "code",
   "execution_count": null,
   "metadata": {},
   "outputs": [],
   "source": [
    "import time, random\n",
    "# \n",
    "for i in range(10):\n",
    "    print(random.randint(10,50))\n",
    "    time.sleep(1)"
   ]
  },
  {
   "cell_type": "markdown",
   "metadata": {},
   "source": [
    "## Exercice 4.8"
   ]
  },
  {
   "cell_type": "code",
   "execution_count": 11,
   "metadata": {},
   "outputs": [
    {
     "name": "stdout",
     "output_type": "stream",
     "text": [
      "(1, 1.6, 2)\n"
     ]
    }
   ],
   "source": [
    "def bornesrand(inf=0, sup=20):\n",
    "    nombres=[random.randint(inf, sup) for i in range(10)]\n",
    "    return min(nombres), sum(nombres)/10, max(nombres)\n",
    "print(bornesrand(1, 2))\n"
   ]
  },
  {
   "cell_type": "code",
   "execution_count": 12,
   "metadata": {},
   "outputs": [
    {
     "name": "stdout",
     "output_type": "stream",
     "text": [
      "(4, 10.2, 19)\n",
      "les valeurs associées sont (1, 2.2, 3)\n"
     ]
    }
   ],
   "source": [
    "print(bornesrand())\n",
    "change=input(\"Taper V si vous souhaitez changer les bornes, F si non\")\n",
    "if change==\"V\":\n",
    "    binf=int(input(\"Rentrez une borne inférieure\"))\n",
    "    bsup=int(input(\"Rentrez une borne supérieure\"))\n",
    "    print(f\"les valeurs associées sont {bornesrand(binf, bsup)}\")"
   ]
  },
  {
   "cell_type": "markdown",
   "metadata": {},
   "source": [
    "## Exercice 4.9"
   ]
  },
  {
   "cell_type": "code",
   "execution_count": 26,
   "metadata": {},
   "outputs": [
    {
     "name": "stdout",
     "output_type": "stream",
     "text": [
      "La moyenne des tirages est 0.4966476285075739 et le nombre de 1 générés est 528\n"
     ]
    }
   ],
   "source": [
    "def AleatoireAvecRepetitions(n):\n",
    "    s=0\n",
    "    i=0\n",
    "    while s!=n:\n",
    "        i+=1\n",
    "        s+=random.randint(0,1)\n",
    "    return random.randint(0,1), i\n",
    "\n",
    "n=int(input(\"Rentrez le nombre de répétitions voulues\"))\n",
    "sommeun=0\n",
    "tirages=0\n",
    "for i in range(1000):\n",
    "    sommeun+=AleatoireAvecRepetitions(n)[0]\n",
    "    tirages+=AleatoireAvecRepetitions(n)[1]\n",
    "print(f\"La moyenne des tirages est {n*1000/tirages} et le nombre de 1 générés est {sommeun}\")"
   ]
  },
  {
   "cell_type": "code",
   "execution_count": null,
   "metadata": {},
   "outputs": [],
   "source": []
  },
  {
   "cell_type": "markdown",
   "metadata": {},
   "source": [
    "## Exercice 4.10"
   ]
  },
  {
   "cell_type": "markdown",
   "metadata": {},
   "source": [
    "Approximation de pi par la méthode de Monte-Carlo"
   ]
  },
  {
   "cell_type": "code",
   "execution_count": 30,
   "metadata": {},
   "outputs": [
    {
     "name": "stdout",
     "output_type": "stream",
     "text": [
      "3.13472\n"
     ]
    }
   ],
   "source": [
    "from math import sqrt\n",
    "def approx(N):\n",
    "    n=0\n",
    "    for i in range(N):\n",
    "        pointx=random.uniform(-1, 1)\n",
    "        pointy=random.uniform(-1, 1)\n",
    "        if sqrt(pointx**2 + pointy**2)<1:\n",
    "            n+=1\n",
    "    return 4*n/N\n",
    "print(approx(50000))\n",
    "#Approximation de plus en plus précise avec l'augmentation du nombre de points"
   ]
  },
  {
   "cell_type": "markdown",
   "metadata": {},
   "source": [
    "## Exercice 4.11"
   ]
  },
  {
   "cell_type": "code",
   "execution_count": 34,
   "metadata": {},
   "outputs": [
    {
     "name": "stdout",
     "output_type": "stream",
     "text": [
      "Votre capital est 90\n",
      "Bonne couleur\n",
      "votre nouveau capital est 92\n",
      "vous êtes sortis avec une somme de 92\n"
     ]
    }
   ],
   "source": [
    "from math import ceil\n",
    "\n",
    "capital=int(input('rentrez le budget à jouer'))\n",
    "print(f\"Votre capital est {capital}\")\n",
    "def roulette():\n",
    "    pred=int(input(\"Quelle est votre prédiction\"))\n",
    "    sortie=random.randint(0,49)\n",
    "    if pred==sortie:\n",
    "        print(\"Gagné\")\n",
    "        return 3\n",
    "    elif pred%2 ==sortie%2:\n",
    "        print(\"Bonne couleur\")\n",
    "        return 1.5\n",
    "    else:\n",
    "        print(\"Rien du tout\")\n",
    "        return -1\n",
    "while input(\"Souhaitez vous continuer à jouer O ou N\")==\"O\" and capital>0:\n",
    "    somme=int(input(\"Entrez la somme à miser\"))\n",
    "    if somme> capital:\n",
    "        print(\"Capital insuffisant\")\n",
    "    else:\n",
    "        x=ceil(roulette())\n",
    "        capital=capital + somme*x\n",
    "        print(f\"votre nouveau capital est {capital}\")\n",
    "if capital<=0:\n",
    "    print(\"Vous ne pouvez pas continuer à jouer\")\n",
    "print(f\"vous êtes sortis avec une somme de {capital}\")\n",
    "\n",
    "    "
   ]
  },
  {
   "cell_type": "code",
   "execution_count": null,
   "metadata": {},
   "outputs": [],
   "source": []
  }
 ],
 "metadata": {
  "kernelspec": {
   "display_name": "Python 3",
   "language": "python",
   "name": "python3"
  },
  "language_info": {
   "codemirror_mode": {
    "name": "ipython",
    "version": 3
   },
   "file_extension": ".py",
   "mimetype": "text/x-python",
   "name": "python",
   "nbconvert_exporter": "python",
   "pygments_lexer": "ipython3",
   "version": "3.10.1"
  }
 },
 "nbformat": 4,
 "nbformat_minor": 2
}
