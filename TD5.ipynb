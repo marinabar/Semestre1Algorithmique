{
 "cells": [
  {
   "cell_type": "markdown",
   "metadata": {},
   "source": [
    "# Travaux dirigés 5 - chaînes str"
   ]
  },
  {
   "cell_type": "markdown",
   "metadata": {},
   "source": [
    "### exercice 5.1"
   ]
  },
  {
   "cell_type": "markdown",
   "metadata": {},
   "source": [
    "le programme remplace les signes de ponctuation , . ou ; par la valeur \"p\".\n",
    "une version plus simple est:"
   ]
  },
  {
   "cell_type": "code",
   "execution_count": 5,
   "metadata": {},
   "outputs": [
    {
     "name": "stdout",
     "output_type": "stream",
     "text": [
      "polo:p\n"
     ]
    }
   ],
   "source": [
    "ch=input(\"Entrez une chaine de caractères\")\n",
    "chNew=ch.replace(',', \"p\").replace('.', \"p\").replace(';', \"p\")\n",
    "print(chNew)"
   ]
  },
  {
   "cell_type": "markdown",
   "metadata": {},
   "source": [
    "### exercice 5.2"
   ]
  },
  {
   "cell_type": "markdown",
   "metadata": {},
   "source": [
    "fonction palindrome"
   ]
  },
  {
   "cell_type": "code",
   "execution_count": 4,
   "metadata": {},
   "outputs": [
    {
     "name": "stdout",
     "output_type": "stream",
     "text": [
      "k\n",
      "ka\n",
      "kay\n",
      "kaya\n",
      "kayak\n",
      "True\n"
     ]
    }
   ],
   "source": [
    "def palindrome(ch):\n",
    "    reverse=\"\"\n",
    "    i=1\n",
    "    while i!=len(ch)+1:\n",
    "        reverse+=ch[-i]\n",
    "        i+=1\n",
    "    return ch==reverse\n",
    "print(palindrome(input('entrez un mot à vérifier')))"
   ]
  },
  {
   "cell_type": "markdown",
   "metadata": {},
   "source": [
    "### exercice 5.3"
   ]
  },
  {
   "cell_type": "code",
   "execution_count": 14,
   "metadata": {},
   "outputs": [
    {
     "name": "stdout",
     "output_type": "stream",
     "text": [
      "maya l'abeille go !\n",
      "maya l'abeille\n"
     ]
    }
   ],
   "source": [
    "ch=input('rentrez la chaine de caractères')\n",
    "i=0\n",
    "compteur=0\n",
    "chNew=\"\"\n",
    "while i!=len(ch):\n",
    "    if ch[i]!=' ':\n",
    "        compteur+=1\n",
    "        chNew+=ch[i]\n",
    "    else:\n",
    "        if compteur<=3:\n",
    "            chNew=chNew[:len(chNew)-compteur]\n",
    "            compteur=0\n",
    "        else:\n",
    "            chNew+=' '\n",
    "            compteur=0\n",
    "    i+=1\n",
    "print(ch)\n",
    "print(chNew.replace(' !', '').replace(' ?', ''))\n",
    "\n"
   ]
  },
  {
   "cell_type": "markdown",
   "metadata": {},
   "source": [
    "### exercice 5.4"
   ]
  },
  {
   "cell_type": "code",
   "execution_count": 18,
   "metadata": {},
   "outputs": [
    {
     "name": "stdout",
     "output_type": "stream",
     "text": [
      "a    a\n",
      "bb   b\n",
      "c c  c\n",
      "d  d d\n",
      "e   ee\n",
      "f    f\n"
     ]
    }
   ],
   "source": [
    "chaine=input('entrez votre mot')\n",
    "long=len(chaine)\n",
    "print(chaine[0]+' '*(long-2)+chaine[0])\n",
    "i=0\n",
    "while i!=len(chaine)-2:\n",
    "    print(chaine[i+1]+' '*i +chaine[i+1] +' '*(long-3-i) +chaine[i+1])\n",
    "    i+=1\n",
    "    \n",
    "print(chaine[-1]+' '*(long-2)+chaine[-1])"
   ]
  }
 ],
 "metadata": {
  "kernelspec": {
   "display_name": "Python 3",
   "language": "python",
   "name": "python3"
  },
  "language_info": {
   "codemirror_mode": {
    "name": "ipython",
    "version": 3
   },
   "file_extension": ".py",
   "mimetype": "text/x-python",
   "name": "python",
   "nbconvert_exporter": "python",
   "pygments_lexer": "ipython3",
   "version": "3.10.1"
  }
 },
 "nbformat": 4,
 "nbformat_minor": 2
}
