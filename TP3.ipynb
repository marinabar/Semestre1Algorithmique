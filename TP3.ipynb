{
 "cells": [
  {
   "cell_type": "markdown",
   "metadata": {},
   "source": [
    "## TP 3 - Fonctions et modules"
   ]
  },
  {
   "cell_type": "markdown",
   "metadata": {},
   "source": [
    "### Exercice 3.6"
   ]
  },
  {
   "cell_type": "code",
   "execution_count": 3,
   "metadata": {},
   "outputs": [
    {
     "name": "stdout",
     "output_type": "stream",
     "text": [
      "-2\n"
     ]
    }
   ],
   "source": [
    "def maximum(n1, n2):\n",
    "    return n1 if n1>n2 else n2\n",
    "print(maximum(-2, -7))"
   ]
  },
  {
   "cell_type": "markdown",
   "metadata": {},
   "source": [
    "### Exercice 3.7"
   ]
  },
  {
   "cell_type": "code",
   "execution_count": 9,
   "metadata": {},
   "outputs": [
    {
     "name": "stdout",
     "output_type": "stream",
     "text": [
      "2500\n"
     ]
    }
   ],
   "source": [
    "def somme(n):\n",
    "    \"\"\"somme des n entiers impairs\"\"\"\n",
    "    return sum([i for i in range(1, n, 2)])\n",
    "print(somme(100))"
   ]
  },
  {
   "cell_type": "markdown",
   "metadata": {},
   "source": [
    "### Exercice 3.8"
   ]
  },
  {
   "cell_type": "code",
   "execution_count": 20,
   "metadata": {},
   "outputs": [
    {
     "name": "stdout",
     "output_type": "stream",
     "text": [
      "False\n"
     ]
    }
   ],
   "source": [
    "def bissextile(n):\n",
    "    return True if ((n%4==0 and n%100!=0) or n%400==0) else False\n",
    "print(bissextile(int(input('Rentrez une année'))))"
   ]
  },
  {
   "cell_type": "markdown",
   "metadata": {},
   "source": [
    "### Exercice 3.9"
   ]
  },
  {
   "cell_type": "code",
   "execution_count": 70,
   "metadata": {},
   "outputs": [
    {
     "name": "stdout",
     "output_type": "stream",
     "text": [
      "3.752\n",
      "Le rang de la suite est 3.750000000008192\n"
     ]
    }
   ],
   "source": [
    "def suite(n):\n",
    "    return 0.2**n*(25/4) + (15/4)\n",
    "print(suite(5))\n",
    "print(f\"Le rang de la suite est {suite(int(input('Rentrez le rang de la suite')))}\")"
   ]
  },
  {
   "cell_type": "markdown",
   "metadata": {},
   "source": [
    "### Exercice 3.11"
   ]
  },
  {
   "cell_type": "code",
   "execution_count": 24,
   "metadata": {},
   "outputs": [
    {
     "name": "stdout",
     "output_type": "stream",
     "text": [
      "table de multiplication de 8 de 3 à 13 est :\n",
      "3 x 8 = 24\n",
      "4 x 8 = 32\n",
      "5 x 8 = 40\n",
      "6 x 8 = 48\n",
      "7 x 8 = 56\n",
      "8 x 8 = 64\n",
      "9 x 8 = 72\n",
      "10 x 8 = 80\n",
      "11 x 8 = 88\n",
      "12 x 8 = 96\n",
      "13 x 8 = 104\n"
     ]
    }
   ],
   "source": [
    "def tablemulti(base, deb, fin):\n",
    "    print(f'table de multiplication de {base} de {deb} à {fin} est :')\n",
    "    while deb!=fin+1:\n",
    "        print(f\"{deb} x {base} = {base*deb}\")\n",
    "        deb+=1\n",
    "tablemulti(8,3,13)"
   ]
  },
  {
   "cell_type": "markdown",
   "metadata": {},
   "source": [
    "### Exercice 3.13"
   ]
  },
  {
   "cell_type": "code",
   "execution_count": 31,
   "metadata": {},
   "outputs": [
    {
     "name": "stdout",
     "output_type": "stream",
     "text": [
      "8\n"
     ]
    }
   ],
   "source": [
    "def fibo(n):\n",
    "    \"\"\"Retourne le n-ième terme de la suite de fibonacci\"\"\"\n",
    "    if n==1 or n == 2:\n",
    "        return 1\n",
    "    else:\n",
    "        return fibo(n-1) + fibo(n-2)\n",
    "print(fibo(6))"
   ]
  },
  {
   "cell_type": "code",
   "execution_count": 32,
   "metadata": {},
   "outputs": [
    {
     "name": "stdout",
     "output_type": "stream",
     "text": [
      "{\"key\":\"ca9ac65d-663f-4515-b5da-a14f5d7ecdfc\",\"signature_scheme\":\"hmac-sha256\",\"transport\":\"tcp\",\"ip\":\"127.0.0.1\",\"hb_port\":9005,\"control_port\":9006,\"shell_port\":9007,\"stdin_port\":9008,\"iopub_port\":9009,\"kernel_name\":\"pythonjvsc74a57bd0fbc519da0ed9876a1c3f2e51bf058526db0ef18d61620dadad31257be237ace9\"}\n",
      "\n",
      "Paste the above JSON into a file, and connect with:\n",
      "    $> jupyter <app> --existing <file>\n",
      "or, if you are local, you can connect with just:\n",
      "    $> jupyter <app> --existing c:\\Users\\marin\\AppData\\Roaming\\jupyter\\runtime\\kernel-v2-6160ZV5a7YCeY7IN.json\n",
      "or even just:\n",
      "    $> jupyter <app> --existing\n",
      "if this is the most recent Jupyter kernel you have started.\n"
     ]
    }
   ],
   "source": [
    "%connect_info"
   ]
  },
  {
   "cell_type": "markdown",
   "metadata": {},
   "source": [
    "### Exercice 3.14"
   ]
  },
  {
   "cell_type": "code",
   "execution_count": 43,
   "metadata": {},
   "outputs": [
    {
     "name": "stdout",
     "output_type": "stream",
     "text": [
      "1 2 3 4 5 6 7 \n",
      "\n",
      "1 3 5 7 9 11 13 \n",
      "\n",
      "1 4 7 10 13 16 19 \n",
      "\n",
      "1 5 9 13 17 21 25 \n",
      "\n"
     ]
    }
   ],
   "source": [
    "def tableau(lignes,colonnes):\n",
    "    for i in range(1, lignes+1):\n",
    "        for k in range(colonnes):\n",
    "            print(k*i+1, end=' ')\n",
    "        print(\"\\n\")\n",
    "tableau(4,7)"
   ]
  },
  {
   "cell_type": "markdown",
   "metadata": {},
   "source": [
    "### Exercice 3.15"
   ]
  },
  {
   "cell_type": "code",
   "execution_count": 54,
   "metadata": {},
   "outputs": [
    {
     "name": "stdout",
     "output_type": "stream",
     "text": [
      "1\n",
      "2\n",
      "3\n",
      "4\n",
      "9.0\n"
     ]
    }
   ],
   "source": [
    "def pgcdpardiv(a, b):\n",
    "    i=1\n",
    "    pgcd=0\n",
    "    while i*i<=b:\n",
    "        if a%i==0 and b%i==0:\n",
    "            if i>pgcd:\n",
    "                pgcd=i\n",
    "        if a%(b/i)==0:\n",
    "            if b/i>pgcd:\n",
    "                pgcd=b/i\n",
    "        i+=1\n",
    "    return pgcd\n",
    "\n",
    "print(pgcdpardiv(63,18))"
   ]
  },
  {
   "cell_type": "code",
   "execution_count": 60,
   "metadata": {},
   "outputs": [
    {
     "name": "stdout",
     "output_type": "stream",
     "text": [
      "63 18\n",
      "18 45\n",
      "45 27\n",
      "27 18\n",
      "18 9\n",
      "9\n"
     ]
    }
   ],
   "source": [
    "def pgcdpardif(a, b):\n",
    "    while a-b !=0:\n",
    "        print(a, b)\n",
    "        a, b=b, abs(a-b)\n",
    "    return b\n",
    "print(pgcdpardif(63,18))"
   ]
  },
  {
   "cell_type": "code",
   "execution_count": 69,
   "metadata": {},
   "outputs": [
    {
     "name": "stdout",
     "output_type": "stream",
     "text": [
      "3\n"
     ]
    }
   ],
   "source": [
    "def pgcdpareuclide(a, b):\n",
    "    while a%b!=0:\n",
    "        a, b =b, a%b\n",
    "    return b\n",
    "\n",
    "print(pgcdpareuclide(63,57))"
   ]
  },
  {
   "cell_type": "code",
   "execution_count": null,
   "metadata": {},
   "outputs": [],
   "source": []
  }
 ],
 "metadata": {
  "kernelspec": {
   "display_name": "Python 3",
   "language": "python",
   "name": "python3"
  },
  "language_info": {
   "codemirror_mode": {
    "name": "ipython",
    "version": 3
   },
   "file_extension": ".py",
   "mimetype": "text/x-python",
   "name": "python",
   "nbconvert_exporter": "python",
   "pygments_lexer": "ipython3",
   "version": "3.10.1"
  },
  "orig_nbformat": 4
 },
 "nbformat": 4,
 "nbformat_minor": 2
}
