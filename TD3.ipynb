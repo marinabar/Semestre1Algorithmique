{
 "cells": [
  {
   "cell_type": "markdown",
   "metadata": {},
   "source": [
    "# TD 3 - Fonctions"
   ]
  },
  {
   "cell_type": "markdown",
   "metadata": {},
   "source": [
    "## exercice 3.1"
   ]
  },
  {
   "cell_type": "markdown",
   "metadata": {},
   "source": [
    "    function maximum(n1 : int, n2:int):str\n",
    "\n",
    "        Begin\n",
    "        \n",
    "            if n1 > n2 then\n",
    "                return n1\n",
    "            else \n",
    "                return n2\n",
    "        End\n",
    "    \n",
    "Algo\n",
    "\n",
    "    n1, n2:int\n",
    "    \n",
    "Begin\n",
    "\n",
    "    get n1\n",
    "    get n2\n",
    "    print maximum(n1,n2)\n",
    "End\n",
    "\n"
   ]
  },
  {
   "cell_type": "markdown",
   "metadata": {},
   "source": [
    "## Exercice 3.2\n"
   ]
  },
  {
   "cell_type": "markdown",
   "metadata": {},
   "source": [
    "    function cube(x:int)\n",
    "        Begin\n",
    "            return x* x*x\n",
    "        End\n",
    "    function volume(r:int)\n",
    "        Begin\n",
    "            return cube(r)*pi*4/3\n",
    "        End\n",
    "    Algo\n",
    "        r:int\n",
    "    Begin\n",
    "        get r\n",
    "        print volume(r)"
   ]
  },
  {
   "cell_type": "markdown",
   "metadata": {},
   "source": [
    "## Exercice 3.3"
   ]
  },
  {
   "cell_type": "markdown",
   "metadata": {},
   "source": [
    "\n",
    "\n",
    "    function tablemulti(base:int, deb:int, fin:int)\n",
    "        Begin\n",
    "            print \"table de multiplication par \", base, \":\"\n",
    "            while (deb != fin + 1)\n",
    "                print deb, \"x\", base, \"=\", deb*base\n",
    "                deb+=1\n",
    "        End\n",
    "\n",
    "    Algo\n",
    "        deb, base, fin:int\n",
    "    Begin\n",
    "        get deb\n",
    "        get base\n",
    "        get fin\n",
    "        tablemulti(base,deb, fin)\n",
    "    End\n",
    "\n",
    "\n",
    "\n",
    "\n"
   ]
  },
  {
   "cell_type": "markdown",
   "metadata": {},
   "source": [
    "## Exercice 3.4"
   ]
  },
  {
   "cell_type": "markdown",
   "metadata": {},
   "source": [
    "1."
   ]
  },
  {
   "cell_type": "markdown",
   "metadata": {},
   "source": [
    "function pgcdParDiv(a:int, b:int)\n",
    "\n",
    "    pgcd:int\n",
    "    i=1\n",
    "    Begin\n",
    "        while i*i<=b:\n",
    "            if (a mod i==0) and (b mod i==0) then\n",
    "                if (b/i>i) and (b/i > pgcd) then\n",
    "                    pgcd <- b/i\n",
    "                else if (i>pgcd) then\n",
    "                    pgcd <- i\n",
    "            i+1\n",
    "        return pgcd\n",
    "    End\n"
   ]
  },
  {
   "cell_type": "markdown",
   "metadata": {},
   "source": [
    "2."
   ]
  },
  {
   "cell_type": "markdown",
   "metadata": {},
   "source": [
    "function pgcdparDif(a:int, b:int)\n",
    "\n",
    "    Begin\n",
    "        while (a-b)!=0\n",
    "            b<-a-b\n",
    "            a<-a-b\n",
    "        return b\n",
    "    End"
   ]
  },
  {
   "cell_type": "markdown",
   "metadata": {},
   "source": [
    "3."
   ]
  },
  {
   "cell_type": "markdown",
   "metadata": {},
   "source": [
    "function pgcdparEuclide(a:int, b:int)\n",
    "\n",
    "    Begin\n",
    "        while a/b!=0\n",
    "            b <- a\n",
    "            b<- a mod b\n",
    "        return a/b\n",
    "    End\n",
    "\n",
    "\n"
   ]
  },
  {
   "cell_type": "code",
   "execution_count": null,
   "metadata": {},
   "outputs": [],
   "source": []
  }
 ],
 "metadata": {
  "kernelspec": {
   "display_name": "Python 3",
   "language": "python",
   "name": "python3"
  },
  "language_info": {
   "codemirror_mode": {
    "name": "ipython",
    "version": 3
   },
   "file_extension": ".py",
   "mimetype": "text/x-python",
   "name": "python",
   "nbconvert_exporter": "python",
   "pygments_lexer": "ipython3",
   "version": "3.10.1"
  },
  "orig_nbformat": 4
 },
 "nbformat": 4,
 "nbformat_minor": 2
}
