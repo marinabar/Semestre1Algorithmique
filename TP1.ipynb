{
 "cells": [
  {
   "cell_type": "markdown",
   "metadata": {},
   "source": [
    "## Algorithmes et premières instructions"
   ]
  },
  {
   "cell_type": "code",
   "execution_count": 20,
   "metadata": {},
   "outputs": [
    {
     "name": "stdout",
     "output_type": "stream",
     "text": [
      "10\n",
      "20\n",
      "30\n",
      "40\n",
      "80\n",
      "10, 20, 30, 40, 80\n",
      "x=10 x=20 x=30 x=40 x=80\n",
      "1x=10\n",
      "2x=20\n",
      "3x=30\n",
      "4x=40\n",
      "8x=80\n",
      "\n"
     ]
    }
   ],
   "source": [
    "# 1.13\n",
    "x= int(input(\"nombre\"))\n",
    "mul=[1, 2, 3, 4, 8]\n",
    "print('\\n'.join(str(x*m) for m in mul))\n",
    "\n",
    "print(', '.join(str(x*m) for m in mul))\n",
    "print('x='+ ' x='.join(str(x*m) for m in mul))\n",
    "print(''.join(str(mul[i])+'x='+str(x*mul[i])+\"\\n\" for i in range(len(mul))))"
   ]
  },
  {
   "cell_type": "code",
   "execution_count": 23,
   "metadata": {},
   "outputs": [
    {
     "name": "stdout",
     "output_type": "stream",
     "text": [
      "False\n"
     ]
    }
   ],
   "source": [
    "#ex 1.14\n",
    "annee=int(input(\"entrez l'année\"))\n",
    "print((annee%400==0) or ((annee%100!=0) and (annee%4==0)))"
   ]
  },
  {
   "cell_type": "code",
   "execution_count": 25,
   "metadata": {},
   "outputs": [
    {
     "name": "stdout",
     "output_type": "stream",
     "text": [
      "Vous vous appelez marina bar\n",
      "Vous êtes un homme né à Paris (71221)\n"
     ]
    },
    {
     "ename": "AssertionError",
     "evalue": "votre numéro de département est erroné",
     "output_type": "error",
     "traceback": [
      "\u001b[1;31m---------------------------------------------------------------------------\u001b[0m",
      "\u001b[1;31mAssertionError\u001b[0m                            Traceback (most recent call last)",
      "\u001b[1;32mc:\\Users\\marin\\Desktop\\scolarité\\uni\\cours\\algorithmique\\TP1.ipynb Cell 4\u001b[0m line \u001b[0;36m1\n\u001b[0;32m      <a href='vscode-notebook-cell:/c%3A/Users/marin/Desktop/scolarit%C3%A9/uni/cours/algorithmique/TP1.ipynb#W2sZmlsZQ%3D%3D?line=7'>8</a>\u001b[0m \u001b[39mprint\u001b[39m(\u001b[39mf\u001b[39m\u001b[39m'\u001b[39m\u001b[39mVous vous appelez \u001b[39m\u001b[39m{\u001b[39;00mprenom\u001b[39m}\u001b[39;00m\u001b[39m \u001b[39m\u001b[39m{\u001b[39;00mnom\u001b[39m}\u001b[39;00m\u001b[39m'\u001b[39m)\n\u001b[0;32m      <a href='vscode-notebook-cell:/c%3A/Users/marin/Desktop/scolarit%C3%A9/uni/cours/algorithmique/TP1.ipynb#W2sZmlsZQ%3D%3D?line=8'>9</a>\u001b[0m \u001b[39mprint\u001b[39m(\u001b[39mf\u001b[39m\u001b[39m'\u001b[39m\u001b[39mVous êtes \u001b[39m\u001b[39m{\u001b[39;00m\u001b[39m\"\u001b[39m\u001b[39mune\u001b[39m\u001b[39m\"\u001b[39m\u001b[39m \u001b[39m\u001b[39mif\u001b[39;00m\u001b[39m \u001b[39msexe\u001b[39m==\u001b[39m\u001b[39m\"\u001b[39m\u001b[39mF\u001b[39m\u001b[39m\"\u001b[39m\u001b[39m \u001b[39m\u001b[39melse\u001b[39;00m\u001b[39m \u001b[39m\u001b[39m\"\u001b[39m\u001b[39mun\u001b[39m\u001b[39m\"\u001b[39m\u001b[39m}\u001b[39;00m\u001b[39m \u001b[39m\u001b[39m{\u001b[39;00m\u001b[39m\"\u001b[39m\u001b[39mfemme\u001b[39m\u001b[39m\"\u001b[39m\u001b[39m \u001b[39m\u001b[39mif\u001b[39;00m\u001b[39m \u001b[39msexe\u001b[39m==\u001b[39m\u001b[39m\"\u001b[39m\u001b[39mF\u001b[39m\u001b[39m\"\u001b[39m\u001b[39m \u001b[39m\u001b[39melse\u001b[39;00m\u001b[39m \u001b[39m\u001b[39m\"\u001b[39m\u001b[39mhomme\u001b[39m\u001b[39m\"\u001b[39m\u001b[39m}\u001b[39;00m\u001b[39m \u001b[39m\u001b[39m{\u001b[39;00m\u001b[39m\"\u001b[39m\u001b[39mnée\u001b[39m\u001b[39m\"\u001b[39m\u001b[39m \u001b[39m\u001b[39mif\u001b[39;00m\u001b[39m \u001b[39msexe\u001b[39m==\u001b[39m\u001b[39m\"\u001b[39m\u001b[39mF\u001b[39m\u001b[39m\"\u001b[39m\u001b[39m \u001b[39m\u001b[39melse\u001b[39;00m\u001b[39m \u001b[39m\u001b[39m\"\u001b[39m\u001b[39mné\u001b[39m\u001b[39m\"\u001b[39m\u001b[39m}\u001b[39;00m\u001b[39m à \u001b[39m\u001b[39m{\u001b[39;00mville\u001b[39m}\u001b[39;00m\u001b[39m (\u001b[39m\u001b[39m{\u001b[39;00mdepart\u001b[39m}\u001b[39;00m\u001b[39m)\u001b[39m\u001b[39m'\u001b[39m)\n\u001b[1;32m---> <a href='vscode-notebook-cell:/c%3A/Users/marin/Desktop/scolarit%C3%A9/uni/cours/algorithmique/TP1.ipynb#W2sZmlsZQ%3D%3D?line=10'>11</a>\u001b[0m \u001b[39massert\u001b[39;00m (depart\u001b[39m>\u001b[39m\u001b[39m=\u001b[39m\u001b[39m1\u001b[39m \u001b[39mand\u001b[39;00m depart\u001b[39m<\u001b[39m\u001b[39m=\u001b[39m\u001b[39m95\u001b[39m) \u001b[39mor\u001b[39;00m depart \u001b[39min\u001b[39;00m [\u001b[39m971\u001b[39m, \u001b[39m972\u001b[39m,\u001b[39m973\u001b[39m,\u001b[39m974\u001b[39m,\u001b[39m976\u001b[39m], \u001b[39m\"\u001b[39m\u001b[39mvotre numéro de département est erroné\u001b[39m\u001b[39m\"\u001b[39m\n",
      "\u001b[1;31mAssertionError\u001b[0m: votre numéro de département est erroné"
     ]
    }
   ],
   "source": [
    "#exercice 1.15\n",
    "nom=input(\"nom\")\n",
    "prenom=input(\"prénom\")\n",
    "sexe=input(\"sexe - F ou H\")\n",
    "ville=input(\"ville de naissance\")\n",
    "depart=input(\"département de naissance\")\n",
    "\n",
    "assert (depart>=1 and depart<=95) or depart in [971, 972,973,974,976], \"votre numéro de département est erroné\"\n",
    "\n",
    "print(f'Vous vous appelez {prenom} {nom}')\n",
    "print(f'Vous êtes {\"une\" if sexe==\"F\" else \"un\"} {\"femme\" if sexe==\"F\" else \"homme\"} {\"née\" if sexe==\"F\" else \"né\"} à {ville} ({depart})')\n"
   ]
  },
  {
   "cell_type": "code",
   "execution_count": 31,
   "metadata": {},
   "outputs": [
    {
     "name": "stdout",
     "output_type": "stream",
     "text": [
      "-1.15\n",
      "image négative\n"
     ]
    }
   ],
   "source": [
    "#exercice 1.16\n",
    "val=int(input())\n",
    "img= -4.0 if val==1 else (0.3*(val**3-1)+ (val**2 +3)/4 -5)\n",
    "print(img)\n",
    "if img>=0:\n",
    "    print('image positive')\n",
    "else:\n",
    "    print(\"image négative\")"
   ]
  },
  {
   "cell_type": "code",
   "execution_count": 73,
   "metadata": {},
   "outputs": [
    {
     "name": "stdout",
     "output_type": "stream",
     "text": [
      "racines complexes\n",
      "solution 1 : -1.4142135623730951 + 1.0*i solution 2 : 1.4142135623730951 + 1.0*i\n"
     ]
    }
   ],
   "source": [
    "#exeercice 1.17\n",
    "from math import sqrt\n",
    "def polynome(a, b, c):\n",
    "    det=b**2 -4*a*c\n",
    "    s=[]\n",
    "    if (a,b,c)==(0,0,0):\n",
    "        print(\"une infinité de solutions\")\n",
    "    elif (a,b)==(0,0) and c!=0:\n",
    "        print('pas de solutions')\n",
    "    elif a ==0:\n",
    "        print('racine simple')\n",
    "        s.append(-c/b)\n",
    "    else:\n",
    "        if det>0:\n",
    "            print(\"deux solutions réelles\")\n",
    "            s.append((-b+sqrt(det))/2*a)\n",
    "            s.append((-b-sqrt(det))/2*a)\n",
    "        if det==0:\n",
    "            print('racine double')\n",
    "            s.append(-b/2*a)\n",
    "        if det <0:\n",
    "            print('racines complexes')\n",
    "            det+=-2*det\n",
    "            s.append(str((sqrt(det))/2*a)+\" + \"+ str(-b/2*a)+'*i')\n",
    "            s.append(str((-sqrt(det))/2*a)+\" + \"+str(-b/2*a)+'*i')\n",
    "    print(*[f'solution {i+1} : {str(s[i])}' for i in range(len(s))])\n",
    "polynome(-1, 2, -3)"
   ]
  },
  {
   "cell_type": "code",
   "execution_count": 40,
   "metadata": {},
   "outputs": [
    {
     "name": "stdout",
     "output_type": "stream",
     "text": [
      "True\n"
     ]
    }
   ],
   "source": [
    "# exercice 1.19\n",
    "a,b,c=input('entrez trois nombres')\n",
    "a=int(a)\n",
    "b=int(b)\n",
    "c=int(c)\n",
    "print(\"La somme de deux des trois nombres est égale à l'autre \"a==b+c or b==a+c or c==b+a)"
   ]
  },
  {
   "cell_type": "code",
   "execution_count": 42,
   "metadata": {},
   "outputs": [
    {
     "name": "stdout",
     "output_type": "stream",
     "text": [
      "triangle construisible True \n",
      "il est équilatéral : False \n",
      "il est rectangle : True\n",
      "il est quelconque : False\n"
     ]
    }
   ],
   "source": [
    "#exercice 1.20\n",
    "def triangle(a,b,c):\n",
    "    nombres=sorted([a,b,c])\n",
    "    max=nombres[-1]\n",
    "    possible=nombres[-1]<=nombres[0]+nombres[1]\n",
    "    rec=max**2 ==nombres[0]**2+nombres[1]**2\n",
    "    eq= a==b and b==c\n",
    "    q = not(rec or eq)\n",
    "    return(f\"triangle construisible {possible} \\nil est équilatéral : {eq} \\nil est rectangle : {rec}\\nil est quelconque : {q}\")\n",
    "\n",
    "print(triangle(5,3,4))"
   ]
  },
  {
   "cell_type": "code",
   "execution_count": 68,
   "metadata": {},
   "outputs": [
    {
     "name": "stdout",
     "output_type": "stream",
     "text": [
      "-3 1 2 12 -4 -8\n",
      "une infinité de solutions\n",
      "2 1 1 4 2 6\n",
      "pas de solutions\n"
     ]
    }
   ],
   "source": [
    "# exercice 1.21\n",
    "def equations(a,b,c,d,e,f):\n",
    "    a,b,c,d,e,f=map(int, (a,b,c,d,e,f))\n",
    "    print(a,b,c,d,e,f)\n",
    "    determinant=a*e-b*d\n",
    "    if a*e == b*d and b*f ==c*e:\n",
    "        return(\"une infinité de solutions\")\n",
    "    if determinant==0:\n",
    "        return(\"pas de solutions\")\n",
    "    x=(c/a - (b*f)/(e*a))/(1-(b*d)/e*a)\n",
    "    y=(f-d*x)/e\n",
    "    return(f\"les solutions sont : x : {x} y: {y}\")\n",
    "print(equations(-3, 1, 2, 12, -4, -8))\n",
    "print(equations(2,1,1,4,2,6))"
   ]
  },
  {
   "cell_type": "markdown",
   "metadata": {},
   "source": [
    "## Pseudo code - TD 2 Boucles while"
   ]
  },
  {
   "cell_type": "code",
   "execution_count": null,
   "metadata": {},
   "outputs": [],
   "source": [
    "# exercice 2.6"
   ]
  },
  {
   "cell_type": "markdown",
   "metadata": {},
   "source": [
    "Algo\n",
    "    i:int\n",
    "    k:int\n",
    "Begin\n",
    "    i=1\n",
    "    k=0\n",
    "    while(i!=4)\n",
    "        while(k!=4)\n",
    "            print 1 + k*i\n",
    "            k->k+1\n",
    "        print(saut de ligne)\n",
    "        i->i+1"
   ]
  }
 ],
 "metadata": {
  "kernelspec": {
   "display_name": "Python 3",
   "language": "python",
   "name": "python3"
  },
  "language_info": {
   "codemirror_mode": {
    "name": "ipython",
    "version": 3
   },
   "file_extension": ".py",
   "mimetype": "text/x-python",
   "name": "python",
   "nbconvert_exporter": "python",
   "pygments_lexer": "ipython3",
   "version": "3.10.1"
  },
  "orig_nbformat": 4
 },
 "nbformat": 4,
 "nbformat_minor": 2
}
