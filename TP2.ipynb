{
 "cells": [
  {
   "cell_type": "markdown",
   "metadata": {},
   "source": [
    "## Travaux pratiques 2 - Boucle While"
   ]
  },
  {
   "cell_type": "code",
   "execution_count": 10,
   "metadata": {},
   "outputs": [
    {
     "name": "stdout",
     "output_type": "stream",
     "text": [
      "8\n"
     ]
    }
   ],
   "source": [
    "#exercice 2.10\n",
    "def puissance(x,n):\n",
    "    assert type(n)==int, \"n n'est pas un entier\"\n",
    "    i=0\n",
    "    p=1\n",
    "    while i!=n:\n",
    "        p=p*x\n",
    "        i+=1\n",
    "    return p\n",
    "print(puissance(2,3))"
   ]
  },
  {
   "cell_type": "code",
   "execution_count": 12,
   "metadata": {},
   "outputs": [
    {
     "name": "stdout",
     "output_type": "stream",
     "text": [
      "2500\n"
     ]
    }
   ],
   "source": [
    "# exercice 2.11\n",
    "n=0\n",
    "s=0\n",
    "while n<100:\n",
    "    if n%2==1:\n",
    "        s+=n\n",
    "    n+=1\n",
    "print(s)"
   ]
  },
  {
   "cell_type": "code",
   "execution_count": 10,
   "metadata": {},
   "outputs": [
    {
     "name": "stdout",
     "output_type": "stream",
     "text": [
      "la somme des diviseurs de n est : 6 et le nombre est non premier\n"
     ]
    }
   ],
   "source": [
    "#exercice 2.12\n",
    "def diviseurs(n):\n",
    "    s=0\n",
    "    i=1\n",
    "    while i**2 <=n:\n",
    "        if n%i==0 and i:\n",
    "            s+=i\n",
    "            if i!=n/i and i!=1:\n",
    "                s+=n/i\n",
    "        i+=1\n",
    "    \n",
    "    return (int(s), s==1+n)\n",
    "s, premier=diviseurs(6)\n",
    "print(f\"la somme des diviseurs de n est : {s} et le nombre est{'' if premier else ' non'} premier\")"
   ]
  },
  {
   "cell_type": "code",
   "execution_count": 13,
   "metadata": {},
   "outputs": [
    {
     "name": "stdout",
     "output_type": "stream",
     "text": [
      "1\n",
      "1 est un entier parfait\n",
      "2\n",
      "3\n",
      "4\n",
      "5\n",
      "6\n",
      "6 est un entier parfait\n",
      "7\n"
     ]
    }
   ],
   "source": [
    "#exercice 2.13\n",
    "def parfait(n):\n",
    "    r=1\n",
    "    while r !=n+1:\n",
    "        s, premier = diviseurs(r)\n",
    "        print(r)\n",
    "        if s ==r:\n",
    "            print(f\"{s} est un entier parfait\")\n",
    "        r+=1\n",
    "parfait(7)"
   ]
  },
  {
   "cell_type": "code",
   "execution_count": 26,
   "metadata": {},
   "outputs": [
    {
     "data": {
      "text/plain": [
       "112"
      ]
     },
     "execution_count": 26,
     "metadata": {},
     "output_type": "execute_result"
    }
   ],
   "source": [
    "# exercice 2.14\n",
    "def ppcm(a, b):\n",
    "    \"\"\"Fonction qui calcule le PPCM de deux nombres\"\"\"\n",
    "    ma=min(a, b)\n",
    "    ppcm=ma\n",
    "    mb=max(a, b)\n",
    "    while ppcm%mb!=0:\n",
    "        ppcm+=ma\n",
    "    return ppcm\n",
    "ppcm(28, 16)\n",
    "        "
   ]
  },
  {
   "cell_type": "code",
   "execution_count": 30,
   "metadata": {},
   "outputs": [
    {
     "name": "stdout",
     "output_type": "stream",
     "text": [
      "11\n"
     ]
    }
   ],
   "source": [
    "#exercice 2.15\n",
    "somme=6000\n",
    "taux=0.015\n",
    "annees=0\n",
    "while somme<7000:\n",
    "    somme+=somme*taux\n",
    "    annees+=1\n",
    "print(annees)"
   ]
  },
  {
   "cell_type": "code",
   "execution_count": 34,
   "metadata": {},
   "outputs": [
    {
     "name": "stdout",
     "output_type": "stream",
     "text": [
      "1 2 3 4 5 \n",
      "\n",
      "1 3 5 7 9 \n",
      "\n",
      "1 4 7 10 13 \n",
      "\n",
      "1 5 9 13 17 \n",
      "\n"
     ]
    }
   ],
   "source": [
    "# exercice 2.16\n",
    "k=1\n",
    "while k!=5:\n",
    "    i=1\n",
    "    while i!=5*k+1:\n",
    "        print(i, end=' ')\n",
    "        i+=k \n",
    "    print(\"\\n\")\n",
    "    k+=1"
   ]
  },
  {
   "cell_type": "code",
   "execution_count": 37,
   "metadata": {},
   "outputs": [
    {
     "name": "stdout",
     "output_type": "stream",
     "text": [
      "suite non croissante\n"
     ]
    }
   ],
   "source": [
    "# exercice 2.17\n",
    "def suitecroiss(n):\n",
    "    v=int(input(\"Premier terme\"))\n",
    "    i=0\n",
    "    while i!=n:\n",
    "        u=int(input(\"terme suivant\"))\n",
    "        if v>u:\n",
    "            print(\"suite non croissante\")\n",
    "            break\n",
    "        else:\n",
    "            v=u\n",
    "        i+=1\n",
    "    if i==n:\n",
    "        print('suite croissante')\n",
    "suitecroiss(5)"
   ]
  },
  {
   "cell_type": "code",
   "execution_count": 39,
   "metadata": {},
   "outputs": [],
   "source": [
    "#exercice 2.18\n",
    "def suiteentiers(n):\n",
    "    \"\"\"\"Vérifie si la somme des entiers pairs est égale à celle des impairs\"\"\"\n",
    "    sommep=0\n",
    "    sommeimp=0\n",
    "    i=0\n",
    "    while i!=n:\n",
    "        nombre=int(input(\"Entrez un entier\"))\n",
    "        while nombre <0:\n",
    "            nombre = int(input(\"Entrez un entier\"))\n",
    "        if nombre%2==0:\n",
    "            sommep+=nombre\n",
    "        else:\n",
    "            sommeimp+=nombre\n",
    "        i+=1\n",
    "    print(f\"Les sommes sont égales {sommep==sommeimp}\")\n",
    "\n",
    "suiteentiers(4)\n"
   ]
  },
  {
   "cell_type": "code",
   "execution_count": 1,
   "metadata": {},
   "outputs": [
    {
     "data": {
      "text/plain": [
       "44"
      ]
     },
     "execution_count": 1,
     "metadata": {},
     "output_type": "execute_result"
    }
   ],
   "source": [
    "# exercice 2.19\n",
    "def lancerdes(n):\n",
    "    \"\"\"Nombre de façons d'obtenir le nombre n en lançant les dés\"\"\"\n",
    "    s=0\n",
    "    i=1\n",
    "    while i!=7:\n",
    "        k=1\n",
    "        while k!=9:\n",
    "            j=1\n",
    "            while j!=11:\n",
    "                if i+j+k==n:\n",
    "                    s+=1\n",
    "                j+=1\n",
    "            k+=1\n",
    "        i+=1\n",
    "    return s\n",
    "\n",
    "lancerdes(int(input(\"Entrez un nombre entier\")))"
   ]
  },
  {
   "cell_type": "markdown",
   "metadata": {},
   "source": []
  }
 ],
 "metadata": {
  "kernelspec": {
   "display_name": "Python 3",
   "language": "python",
   "name": "python3"
  },
  "language_info": {
   "codemirror_mode": {
    "name": "ipython",
    "version": 3
   },
   "file_extension": ".py",
   "mimetype": "text/x-python",
   "name": "python",
   "nbconvert_exporter": "python",
   "pygments_lexer": "ipython3",
   "version": "3.10.1"
  },
  "orig_nbformat": 4
 },
 "nbformat": 4,
 "nbformat_minor": 2
}
