{
 "cells": [
  {
   "cell_type": "markdown",
   "metadata": {},
   "source": [
    "## Travaux pratiques 2 - Boucle While"
   ]
  },
  {
   "cell_type": "code",
   "execution_count": 10,
   "metadata": {},
   "outputs": [
    {
     "name": "stdout",
     "output_type": "stream",
     "text": [
      "8\n"
     ]
    }
   ],
   "source": [
    "#exercice 2.10\n",
    "def puissance(x,n):\n",
    "    assert type(n)==int, \"n n'est pas un entier\"\n",
    "    i=0\n",
    "    p=1\n",
    "    while i!=n:\n",
    "        p=p*x\n",
    "        i+=1\n",
    "    return p\n",
    "print(puissance(2,3))"
   ]
  },
  {
   "cell_type": "code",
   "execution_count": 12,
   "metadata": {},
   "outputs": [
    {
     "name": "stdout",
     "output_type": "stream",
     "text": [
      "2500\n"
     ]
    }
   ],
   "source": [
    "# exercice 2.11\n",
    "n=0\n",
    "s=0\n",
    "while n<100:\n",
    "    if n%2==1:\n",
    "        s+=n\n",
    "    n+=1\n",
    "print(s)"
   ]
  },
  {
   "cell_type": "code",
   "execution_count": 22,
   "metadata": {},
   "outputs": [
    {
     "name": "stdout",
     "output_type": "stream",
     "text": [
      "la somme des diviseurs de n est : 7 et le nombre est non premier\n"
     ]
    }
   ],
   "source": [
    "#exercice 2.12\n",
    "def diviseurs(n):\n",
    "    s=0\n",
    "    i=1\n",
    "    while i**2 <=n:\n",
    "        if n%i==0:\n",
    "            s+=i\n",
    "            if i!=n/i:\n",
    "                s+=n/i\n",
    "        i+=1\n",
    "    \n",
    "    return (int(s), s==1+n)\n",
    "s, premier=diviseurs(4)\n",
    "print(f\"la somme des diviseurs de n est : {s} et le nombre est{'' if premier else ' non'} premier\")"
   ]
  },
  {
   "cell_type": "code",
   "execution_count": null,
   "metadata": {},
   "outputs": [],
   "source": [
    "#exercice 2.13\n",
    "def parfait(n):\n",
    "    r=1\n",
    "    while r !=n:\n",
    "        s, premier = diviseurs()"
   ]
  }
 ],
 "metadata": {
  "kernelspec": {
   "display_name": "Python 3",
   "language": "python",
   "name": "python3"
  },
  "language_info": {
   "codemirror_mode": {
    "name": "ipython",
    "version": 3
   },
   "file_extension": ".py",
   "mimetype": "text/x-python",
   "name": "python",
   "nbconvert_exporter": "python",
   "pygments_lexer": "ipython3",
   "version": "3.10.1"
  },
  "orig_nbformat": 4
 },
 "nbformat": 4,
 "nbformat_minor": 2
}
